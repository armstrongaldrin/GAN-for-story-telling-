{
 "cells": [
  {
   "cell_type": "code",
   "execution_count": 5,
   "id": "63aadc5c-e5f8-44f4-b972-7f47713f7c87",
   "metadata": {},
   "outputs": [
    {
     "name": "stderr",
     "output_type": "stream",
     "text": [
      "e:\\projects\\gabi\\.venv\\Lib\\site-packages\\tqdm\\auto.py:21: TqdmWarning: IProgress not found. Please update jupyter and ipywidgets. See https://ipywidgets.readthedocs.io/en/stable/user_install.html\n",
      "  from .autonotebook import tqdm as notebook_tqdm\n",
      "e:\\projects\\gabi\\.venv\\Lib\\site-packages\\transformers\\tokenization_utils_base.py:1601: FutureWarning: `clean_up_tokenization_spaces` was not set. It will be set to `True` by default. This behavior will be depracted in transformers v4.45, and will be then set to `False` by default. For more details check this issue: https://github.com/huggingface/transformers/issues/31884\n",
      "  warnings.warn(\n",
      "The attention mask is not set and cannot be inferred from input because pad token is same as eos token. As a consequence, you may observe unexpected behavior. Please pass your input's `attention_mask` to obtain reliable results.\n"
     ]
    },
    {
     "name": "stdout",
     "output_type": "stream",
     "text": [
      "Story 1:\n",
      "Once upon a time in a land far, far away, there was a man who had come to the land of the living. He was the son of a rich man, and he had a son who was rich. And he said to his son, \"I will give you a wife, for I am rich, but I will not give her to you. You will have to give it to me.\" And the man said, 'I am not rich,' and the woman said: 'You are rich.' So he gave the wife to him.\n",
      "\n",
      "And when he was about to leave the house of his father, he heard a voice saying, \"'You have not heard the voice of my father. I have heard his voice.' And when I heard it, I was very angry, because I knew that I had been wronged. So I went to my mother and told her what had happened. She told me that she had heard my voice and that it was my son's voice. But I did not know what to do. My mother said that if I would not tell her the truth, she would kill me, so I told the story to her. Then she said she was going to take me to a place where I could see her, where she could look at me and tell me what was happening. When she saw me she went out of her house and came back with her son. The man came and took me back to where the father had gone out to kill him and to see if he could find a way to get me out.\" (Genesis 3:14-15)\n",
      " (See also: Genesis 2:16-17, Genesis 1:19-20, Gen. 1, 2, 3, 4, 5, 6, 7, 8, 9, 10, 11, 12, 13, 14, 15, 16, 17, 18, 19, 20, 21, 22, 23, 24, 25, 26, 27, 28, 29, 30, 31, 32, 33, 34, 35, 36, 37, 38, 39, 40, 41, 42, 43, 44, 45, 46, 47, 48, 49, 50, 51, 52, 53, 54, 55, 56, 57, 58, 59, 60, 61, 62, 63, 64, 65, 66, 67, 68, 69, 70, 71, 72, 73, 74, 75, 76, 77, 78\n",
      "\n",
      "Story 2:\n",
      "Once upon a time in a land far, far away, there was a man who had come to the land of the living. He was the son of a rich man, and he had a son who was rich. And he said to his son, \"I will give you a wife, for I am rich, but I will not give her to you. You will have to give it to me.\" And the man said, 'I am not rich,' and the woman said: 'You are rich.' So he gave the wife to him.\n",
      "\n",
      "And when he was about to leave the house of his father, he heard a voice saying, \"'You have not heard the voice of my father. I have heard his voice.' And when I heard it, I was very angry, because I knew that I had been wronged. So I went to my mother and told her what had happened. She told me that she had heard my voice and that it was my son's voice. But I did not know what to do. My mother said that if I would not tell her the truth, she would kill me, so I told the story to her. Then she said she was going to take me to a place where I could see her, where she could look at me and tell me what was happening. When she saw me she went out of her house and came back with her son. The man came and took me back to where the father had gone out to kill him and to see if he could find a way to get me out.\" (Genesis 3:14-15)\n",
      " (See also: Genesis 2:16-17, Genesis 1:19-20, Gen. 2, 3, 4, 5, 6, 7, 8, 9, 10, 11, 12, 13, 14, 15, 16, 17, 18, 19, 20, 21, 22, 23, 24, 25, 26, 27, 28, 29, 30, 31, 32, 33, 34, 35, 36, 37, 38, 39, 40, 41, 42, 43, 44, 45, 46, 47, 48, 49, 50, 51, 52, 53, 54, 55, 56, 57, 58, 59, 60, 61, 62, 63, 64, 65, 66, 67, 68, 69, 70, 71, 72, 73, 74, 75, 76, 77, 78, 79\n",
      "\n",
      "Story 3:\n",
      "Once upon a time in a land far, far away, there was a man who had come to the land of the living. He was the son of a rich man, and he had a son who was rich. And he said to his son, \"I will give you a wife, for I am rich, but I will not give her to you. You will have to give it to me.\" And the man said, 'I am not rich,' and the woman said: 'You are rich.' So he gave the wife to him.\n",
      "\n",
      "And when he was about to leave the house of his father, he heard a voice saying, \"'You have not heard the voice of my father. I have heard his voice.' And when I heard it, I was very angry, because I knew that I had been wronged. So I went to my mother and told her what had happened. She told me that she had heard my voice and that it was my son's voice. But I did not know what to do. My mother said that if I would not tell her the truth, she would kill me, so I told the story to her. Then she said she was going to take me to a place where I could see her, where she could look at me and tell me what was happening. When she saw me she went out of her house and came back with her son. The man came and took me back to where the father had gone out to kill him and to see if he could find a way to get me out.\" (Genesis 3:14-15)\n",
      " (See also: Genesis 2:16-17, Genesis 1:19-20, Gen. 1, 2, 3, 4, 5, 6, 7, 8, 9, 10, 11, 12, 13, 14, 15, 16, 17, 18, 19, 20, 21, 22, 23, 24, 25, 26, 27, 28, 29, 30, 31, 32, 33, 34, 35, 36, 37, 38, 39, 40, 41, 42, 43, 44, 45, 46, 47, 48, 49, 50, 51, 52, 53, 54, 55, 56, 57, 58, 59, 60, 61, 62, 63, 64, 65, 66, 67, 68, 69, 70, 71, 72, 73, 74, 75, 76, 78, 79\n",
      "\n"
     ]
    }
   ],
   "source": [
    "from transformers import GPT2LMHeadModel, GPT2Tokenizer\n",
    "\n",
    "def generate_story(prompt, max_length=200, num_return_sequences=1):\n",
    "    # Load pre-trained model and tokenizer\n",
    "    model_name = 'gpt2'  # You can also use 'gpt2-medium', 'gpt2-large', 'gpt2-xl' for larger models\n",
    "    model = GPT2LMHeadModel.from_pretrained(model_name)  # Make sure the model is defined here\n",
    "    tokenizer = GPT2Tokenizer.from_pretrained(model_name)  # Define the tokenizer here\n",
    "\n",
    "    # Encode input prompt\n",
    "    input_ids = tokenizer.encode(prompt, return_tensors='pt')\n",
    "\n",
    "    # Generate text with beam search\n",
    "    output = model.generate(\n",
    "        input_ids,\n",
    "        max_length=max_length,\n",
    "        num_return_sequences=num_return_sequences,\n",
    "        num_beams=max(num_return_sequences, 3),  # Ensure num_beams >= num_return_sequences\n",
    "        no_repeat_ngram_size=2,  # Prevents repeating phrases\n",
    "        pad_token_id=tokenizer.eos_token_id  # Handle padding correctly\n",
    "    )\n",
    "\n",
    "    # Decode generated text\n",
    "    generated_texts = [tokenizer.decode(output[i], skip_special_tokens=True) for i in range(num_return_sequences)]\n",
    "    \n",
    "    return generated_texts\n",
    "\n",
    "# Example usage\n",
    "prompt = \"Once upon a time in a land far, far away,\"\n",
    "generated_stories = generate_story(prompt, max_length=500, num_return_sequences=3)\n",
    "\n",
    "for i, story in enumerate(generated_stories):\n",
    "    print(f\"Story {i + 1}:\\n{story}\\n\")\n"
   ]
  },
  {
   "cell_type": "code",
   "execution_count": 1,
   "id": "6007f7ee",
   "metadata": {},
   "outputs": [
    {
     "name": "stderr",
     "output_type": "stream",
     "text": [
      "e:\\projects\\gabi\\.venv\\Lib\\site-packages\\tqdm\\auto.py:21: TqdmWarning: IProgress not found. Please update jupyter and ipywidgets. See https://ipywidgets.readthedocs.io/en/stable/user_install.html\n",
      "  from .autonotebook import tqdm as notebook_tqdm\n",
      "e:\\projects\\gabi\\.venv\\Lib\\site-packages\\transformers\\tokenization_utils_base.py:1601: FutureWarning: `clean_up_tokenization_spaces` was not set. It will be set to `True` by default. This behavior will be depracted in transformers v4.45, and will be then set to `False` by default. For more details check this issue: https://github.com/huggingface/transformers/issues/31884\n",
      "  warnings.warn(\n",
      "The attention mask is not set and cannot be inferred from input because pad token is same as eos token. As a consequence, you may observe unexpected behavior. Please pass your input's `attention_mask` to obtain reliable results.\n"
     ]
    }
   ],
   "source": [
    "import tkinter as tk\n",
    "from transformers import GPT2LMHeadModel, GPT2Tokenizer\n",
    "\n",
    "# Function to generate the story and display it in the GUI\n",
    "def generate_and_display_story():\n",
    "    prompt = prompt_entry.get()\n",
    "    generated_stories = generate_story(prompt, max_length=500, num_return_sequences=3)\n",
    "    \n",
    "    # Clear the text widget\n",
    "    story_text.delete(1.0, tk.END)\n",
    "    \n",
    "    # Display the generated stories\n",
    "    for i, story in enumerate(generated_stories):\n",
    "        story_text.insert(tk.END, f\"Story {i + 1}:\\n{story}\\n\\n\")\n",
    "\n",
    "# Function to generate story using GPT-2\n",
    "def generate_story(prompt, max_length=200, num_return_sequences=1):\n",
    "    model_name = 'gpt2'\n",
    "    model = GPT2LMHeadModel.from_pretrained(model_name)\n",
    "    tokenizer = GPT2Tokenizer.from_pretrained(model_name)\n",
    "    \n",
    "    input_ids = tokenizer.encode(prompt, return_tensors='pt')\n",
    "    \n",
    "    output = model.generate(\n",
    "        input_ids,\n",
    "        max_length=max_length,\n",
    "        num_return_sequences=num_return_sequences,\n",
    "        num_beams=max(num_return_sequences, 3),\n",
    "        no_repeat_ngram_size=2,\n",
    "        pad_token_id=tokenizer.eos_token_id\n",
    "    )\n",
    "    \n",
    "    generated_texts = [tokenizer.decode(output[i], skip_special_tokens=True) for i in range(num_return_sequences)]\n",
    "    \n",
    "    return generated_texts\n",
    "\n",
    "# Create the main window\n",
    "root = tk.Tk()\n",
    "root.title(\"Story Generator\")\n",
    "\n",
    "# Prompt input\n",
    "prompt_label = tk.Label(root, text=\"Enter your prompt:\")\n",
    "prompt_label.pack(pady=10)\n",
    "\n",
    "prompt_entry = tk.Entry(root, width=50)\n",
    "prompt_entry.pack(pady=10)\n",
    "\n",
    "# Generate button\n",
    "generate_button = tk.Button(root, text=\"Generate Story\", command=generate_and_display_story)\n",
    "generate_button.pack(pady=10)\n",
    "\n",
    "# Text widget to display the generated stories\n",
    "story_text = tk.Text(root, wrap='word', height=20, width=60)\n",
    "story_text.pack(pady=10)\n",
    "\n",
    "# Run the GUI loop\n",
    "root.mainloop()\n"
   ]
  }
 ],
 "metadata": {
  "kernelspec": {
   "display_name": "Python 3 (ipykernel)",
   "language": "python",
   "name": "python3"
  },
  "language_info": {
   "codemirror_mode": {
    "name": "ipython",
    "version": 3
   },
   "file_extension": ".py",
   "mimetype": "text/x-python",
   "name": "python",
   "nbconvert_exporter": "python",
   "pygments_lexer": "ipython3",
   "version": "3.12.3"
  }
 },
 "nbformat": 4,
 "nbformat_minor": 5
}
